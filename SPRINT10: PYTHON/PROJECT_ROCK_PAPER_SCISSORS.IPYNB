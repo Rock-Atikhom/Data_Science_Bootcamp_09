## IMPORT RANDOM MODULE
## IMPORT SYSTEM MODULE
## IMPORT PANDAS MODULE
## IMPORT TIME MODULE

import random as rd
import pandas as pd
import time as tm
import sys as sy


def game():

    ## GREETING & USERNAME

    username = input("What is your name: " ).capitalize()
    tm.sleep(1.5)
    
    print(f"Hi, {username}")
    tm.sleep(1.5)

    print("Welcome to the Rock Paper Scissors Game")

    
    ## READY TO PLAY
    tm.sleep(1.5)
    print("Let's Go!")
    
    tm.sleep(1.5)
    print(" ")

    tm.sleep(1.5)
    print(3)
    
    tm.sleep(1.5)
    print(" ")
    
    tm.sleep(1.5)
    print(2)

    tm.sleep(1.5)
    print(" ")

    tm.sleep(1.5)
    print(1)

    tm.sleep(1.5)
    print(" ")

    tm.sleep(1.5)
    print("If You Want to Start the Rock Paper Scissors Game")
    
    tm.sleep(1.5)
    print("Please Enter the Command: T")
    
    tm.sleep(1.5)
    print("If You Want to Stop the Rock Paper Scissors Game")

    tm.sleep(1.5)
    print("Please Enter the Command: F")


    ## HOW TO PLAY

    ready = input("Are You Ready?").upper()

    if(ready == "T"):

        print("Let's Start")
        tm.sleep(1.5)

        print(" ")
        tm.sleep(1.5)

        print("Each Player Choose One of Three Hand Signals: Rock. Paper, or Scissors")
        tm.sleep(2)

        print("[🫳] ROCK: A Closed Fist Represents Rock")
        tm.sleep(2)

        print("[🫱] PAPER: A Flat Hand With Fingers and Thumb Extended, Palm Facing Down, Represents Paper")
        tm.sleep(2)

        print("[✌️] SCISSORS: A fist With the Index and Middle Fingers Fully Extended Towards the Opponent Represents Scissors")
        tm.sleep(2)
        tm.sleep(1.5)

        print(" ")
        tm.sleep(1.5)

        print("RULES")
        tm.sleep(1.5)

        print("1. Rock Beats Scissors")
        tm.sleep(1.5)

        print("2. Paper Beats Rock")
        tm.sleep(1.5)

        print("3. Scissors Beats Paper")
        tm.sleep(1.5)

        print(" ")
        tm.sleep(1.5)

        print("This Game Has Two Rounnds")
        tm.sleep(2)

        print("If Mr.A Chooses Rock And Mr.B Chooses Scissors, the Rock Wins!")
        tm.sleep(2)

        print("If Mr.A Chooses Paper And Mr.B Chooses Rock, the Paper Wins")
        tm.sleep(2)

        print("If Mr.A Chooses Scissors and Mr.B Chooses Paper, the Scissors Wins")
        tm.sleep(2)

        print("If Both Players Choose the Same Hand Signal, It's a Tie And Then This Game Will Be Played Again")
        tm.sleep(1.5)

        print(" ")
        tm.sleep(1.5)

        print("If You Win, Your Score Plus 1 Point 🎉🎉")
        tm.sleep(1.5)

        print("If You Lose, Your Score Minus 1 Point 😭😭")
        tm.sleep(1.5)

        ## CREATE HAND CHOICES FOR COMPUTER

        c_choice = ["R", "P", "S"]

        raw_df = {
        "id": [1, 2 ,3],
        "choice": ["R", "P", "S"],
        "hand_type": ["[🫳] Rock", "[🫱] Paper", "[✌️] Scissors"]
        }

        hand_df = pd.DataFrame(raw_df)
    
        hand_df = hand_df.style.hide()

        tm.sleep(1.5)
        display(hand_df)

    else:
        print(f"Nice to Meet You, {username}")
        tm.sleep(1.5)
        
        print("🎉🎉🎊🎊Hope to See you Again Later🎊🎊")


 ## SCORE AND ROUND

    p_score = 0
    c_score = 0
    round = 0
    

    while round <= 5 and ready == "T":
        
        tm.sleep(1.5)
        print(" ")

        print(f"Round: {round}")

        print("Please Choose the Choice [R]: Rock")
        tm.sleep(1.5)

        print("Please Choose the Choice [P]: Paper")
        tm.sleep(1.5)

        print("Please Choose the Choice [S]: Scissors")
        tm.sleep(1.5)

        c_hand = rd.choice(c_choice)
        tm.sleep(2)

        p_hand = input("Please Choose [R], [P], [S]").upper()

        print(f"{username} Hand {p_hand} VS Computer Hand {c_hand}")

        ## PLAYER WINS

        if(c_hand == p_hand):
            round = round + 1 
            print("✨It's A Tie✨")
            print("🔥play again🔥")
    
        elif(
            (p_hand == "R" and c_hand == "S") or
            (p_hand == "P" and c_hand == "R") or
            (p_hand == "S" and c_hand == "P")     
        ):
            p_score = p_score + 1
            c_score = c_score - 1
            round = round + 1
            print(f"🎗️{username} wins🎗️")

        ## COMPUTER WINS

        elif(
            (c_hand == "R" and p_hand == "S") or
            (c_hand == "P" and p_hand == "R") or
            (c_hand == "S" and p_hand == "P")
        ):
            p_score = p_score - 1
            c_score = c_score + 1
            round = round + 1
            print("🎗️ Conputer wins🎗️")
        else:
            print(" ")

        if(round == 5):
            print("🔥Time is Up🔥")
            break

        ## SUMMARISE TOTAL SCORE 
    while round == 5:
            
        tm.sleep(1.5)
        print(" ")

        tm.sleep(1.5)
        print("3")

        tm.sleep(1.5)
        print(" ")

        tm.sleep(1.5)
        print("2")

        tm.sleep(1.5)
        print(" ")

        tm.sleep(1.5)
        print("1")

        tm.sleep(1.5)
        print(" ")

        tm.sleep(2)
        print(f"✨✨{username}'s Score: {p_score}✨✨")

        tm.sleep(2)
        print(f"✨Computer's Score: {c_score}✨✨")

            ## ANNOUNCEMENT OF WINNERS

        if(p_score > c_score):
            tm.sleep(1.5)
            print("🎉Congratulations🎉")
            tm.sleep(2)
            print("✨You Are the Champions✨")
            tm.sleep(1.5)
            break
                

        elif(c_score > p_score):
            tm.sleep(1.5)
            print("🎉Congratulations🎉")
            tm.sleep(2)
            print("✨Computer Is the Champions✨")
            tm.sleep(1.5)
            break
                

        else:
            tm.sleep(2)
            print("😘😘It's A Tie😘😘")
            tm.sleep(2)
            print("You Can Do It")
            break
